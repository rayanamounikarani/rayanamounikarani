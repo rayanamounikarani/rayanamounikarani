{
 "cells": [
  {
   "cell_type": "code",
   "execution_count": null,
   "metadata": {},
   "outputs": [],
   "source": [
    "patterns"
   ]
  },
  {
   "cell_type": "code",
   "execution_count": 1,
   "metadata": {},
   "outputs": [
    {
     "name": "stdout",
     "output_type": "stream",
     "text": [
      "enter number:5\n",
      "* * * * * \n",
      "\n",
      "* * * * \n",
      "\n",
      "* * * \n",
      "\n",
      "* * \n",
      "\n",
      "* \n",
      "\n"
     ]
    }
   ],
   "source": [
    "n=int(input(\"enter number:\"))\n",
    "for i in range(n,0,-1):\n",
    "    for j in range(1,i+1):\n",
    "        print(\"*\",end=\" \")\n",
    "    print(\"\\n\")\n"
   ]
  },
  {
   "cell_type": "code",
   "execution_count": 2,
   "metadata": {},
   "outputs": [
    {
     "name": "stdout",
     "output_type": "stream",
     "text": [
      "enter number:5\n",
      "* \n",
      "\n",
      "* * \n",
      "\n",
      "* * * \n",
      "\n",
      "* * * * \n",
      "\n",
      "* * * * * \n",
      "\n"
     ]
    }
   ],
   "source": [
    " n=int(input(\"enter number:\"))\n",
    "for i in range(1,n+1):\n",
    "    for j in range(1,i+1):\n",
    "        print(\"*\",end=\" \")\n",
    "    print(\"\\n\")\n",
    "    "
   ]
  },
  {
   "cell_type": "code",
   "execution_count": 4,
   "metadata": {},
   "outputs": [
    {
     "name": "stdout",
     "output_type": "stream",
     "text": [
      "enter number:5\n",
      "* \n",
      "\n",
      "* * \n",
      "\n",
      "* * * \n",
      "\n",
      "* * * * \n",
      "\n",
      "* * * * * \n",
      "\n",
      "* * * * \n",
      "\n",
      "* * * \n",
      "\n",
      "* * \n",
      "\n",
      "* \n",
      "\n"
     ]
    }
   ],
   "source": [
    " n=int(input(\"enter number:\"))\n",
    "for i in range(1,n+1):\n",
    "    for j in range(1,i+1):\n",
    "        print(\"*\",end=\" \")\n",
    "    print(\"\\n\")\n",
    "for i in range(n-1,0,-1):\n",
    "    for j in range(1,i+1):\n",
    "        print(\"*\",end=\" \")\n",
    "    print(\"\\n\")"
   ]
  },
  {
   "cell_type": "code",
   "execution_count": 6,
   "metadata": {},
   "outputs": [
    {
     "name": "stdout",
     "output_type": "stream",
     "text": [
      "enter number:7\n",
      "* * * * * * * \n",
      "\n",
      "* *       * * \n",
      "\n",
      "*   *   *   * \n",
      "\n",
      "*     *     * \n",
      "\n",
      "*   *   *   * \n",
      "\n",
      "* *       * * \n",
      "\n",
      "* * * * * * * \n",
      "\n"
     ]
    }
   ],
   "source": [
    "n=int(input(\"enter number:\"))\n",
    "for i in range(1,n+1):\n",
    "    for j in range(1,n+1):\n",
    "            if(i==1 or j==n or j==1 or i==n or i==j or j==n-i+1):\n",
    "                print(\"*\",end=\" \")\n",
    "            else:\n",
    "                print(\" \",end=\" \")\n",
    "    print(\"\\n\")\n",
    "\n",
    "    "
   ]
  },
  {
   "cell_type": "code",
   "execution_count": 7,
   "metadata": {},
   "outputs": [
    {
     "name": "stdout",
     "output_type": "stream",
     "text": [
      "enter number:4\n",
      "* * * * \n",
      "\n",
      "* * * \n",
      "\n",
      "* * \n",
      "\n",
      "* \n",
      "\n"
     ]
    }
   ],
   "source": [
    "n=int(input(\"enter number:\"))\n",
    "for i in range(n,0,-1):\n",
    "    for j in range(1,i+1):\n",
    "        print(\"*\",end=\" \")\n",
    "    print(\"\\n\")"
   ]
  },
  {
   "cell_type": "code",
   "execution_count": 8,
   "metadata": {},
   "outputs": [
    {
     "name": "stdout",
     "output_type": "stream",
     "text": [
      "enter number:4\n",
      "* \n",
      "\n",
      "* * \n",
      "\n",
      "* * * \n",
      "\n",
      "* * * * \n",
      "\n"
     ]
    }
   ],
   "source": [
    "n=int(input(\"enter number:\"))\n",
    "for i in range(1,n+1):\n",
    "    for j in range(1,i+1):\n",
    "        print(\"*\",end=\" \")\n",
    "    print(\"\\n\")"
   ]
  },
  {
   "cell_type": "code",
   "execution_count": 13,
   "metadata": {},
   "outputs": [
    {
     "name": "stdout",
     "output_type": "stream",
     "text": [
      "5\n",
      "*\n",
      "*\n",
      "*\n",
      "*\n",
      "*\n",
      "*\n",
      "*\n",
      "*\n"
     ]
    }
   ],
   "source": [
    "n=int(input())\n",
    "for i in range(1,n+1):\n",
    "    for j in range(1,i+1):\n",
    "        if(j==n or i==j or j==n-1 or i==n-j+1):\n",
    "            print(\"*\")"
   ]
  },
  {
   "cell_type": "markdown",
   "metadata": {},
   "source": [
    "#### objected oriented programming language\n",
    "* class\n",
    "    * collection of variables and methods\n",
    "    * syntax\n",
    "        * class classname:\n",
    "             '''documentation'''\n",
    "           variables\n",
    "           methods\n",
    "     * rules\n",
    "         * should be capital\n",
    "         * doesn't allow spaces\n",
    "         * doesn't allow spaces\n",
    "* objects\n",
    "   \n",
    "* constructor\n",
    "* inheritance\n",
    "* packages and modules using  oops"
   ]
  },
  {
   "cell_type": "code",
   "execution_count": 18,
   "metadata": {},
   "outputs": [
    {
     "name": "stdout",
     "output_type": "stream",
     "text": [
      "10\n",
      "from exmp function\n",
      "basic example\n"
     ]
    }
   ],
   "source": [
    "class exm:\n",
    "    '''basic example'''\n",
    "    a=10\n",
    "    def exmp():\n",
    "        return ('from exmp function')\n",
    "print(exm.a)\n",
    "print(exm.exmp())\n",
    "print(exm.__doc__)"
   ]
  },
  {
   "cell_type": "code",
   "execution_count": 21,
   "metadata": {},
   "outputs": [
    {
     "name": "stdout",
     "output_type": "stream",
     "text": [
      "10\n",
      "from exmp function\n",
      "None\n"
     ]
    }
   ],
   "source": [
    "class exm:\n",
    "    \n",
    "    a=10\n",
    "    def exmp():\n",
    "        return ('from exmp function')\n",
    "print(exm.a)\n",
    "print(exm.exmp())\n",
    "print(exm.__doc__)"
   ]
  },
  {
   "cell_type": "code",
   "execution_count": 22,
   "metadata": {},
   "outputs": [
    {
     "name": "stdout",
     "output_type": "stream",
     "text": [
      "10\n",
      "from exmp function\n",
      "None\n",
      "basic example\n"
     ]
    }
   ],
   "source": [
    "class exm:\n",
    "    '''basic example'''\n",
    "    \n",
    "    a=10\n",
    "    def exmp():\n",
    "        print  ('from exmp function')\n",
    "print(exm.a)\n",
    "print(exm.exmp())\n",
    "print(exm.__doc__)\n",
    "   "
   ]
  },
  {
   "cell_type": "code",
   "execution_count": 8,
   "metadata": {},
   "outputs": [
    {
     "data": {
      "text/plain": [
       "120"
      ]
     },
     "execution_count": 8,
     "metadata": {},
     "output_type": "execute_result"
    }
   ],
   "source": [
    "class task:\n",
    "    \n",
    "    def factorial(self,a):\n",
    "        fact=1\n",
    "        for i in range(1,a+1):\n",
    "            fact=fact*i\n",
    "        return (fact)\n",
    "\n",
    "a=task()\n",
    "a.factorial(5)\n",
    "        "
   ]
  },
  {
   "cell_type": "code",
   "execution_count": 21,
   "metadata": {},
   "outputs": [
    {
     "name": "stdout",
     "output_type": "stream",
     "text": [
      "6\n",
      "perfect number\n"
     ]
    }
   ],
   "source": [
    "class A:\n",
    "    def perfect(self,a):\n",
    "        sum=0\n",
    "        for i in range (1,a):\n",
    "            if a%i==0:\n",
    "                sum+=i\n",
    "        if sum==a:\n",
    "            return (\"perfect number\")\n",
    "        else:\n",
    "            return (\"not perfect number\")\n",
    "a=A()\n",
    "n=int(input())\n",
    "print(a.perfect(n))\n",
    "    "
   ]
  },
  {
   "cell_type": "code",
   "execution_count": 29,
   "metadata": {},
   "outputs": [
    {
     "data": {
      "text/plain": [
       "' prime'"
      ]
     },
     "execution_count": 29,
     "metadata": {},
     "output_type": "execute_result"
    }
   ],
   "source": [
    "class B:\n",
    "    def prime(self,a):\n",
    "        count=0\n",
    "        for i in range(1,a+1):\n",
    "            if a%i==0:\n",
    "                count+=1\n",
    "        if count==0:\n",
    "            return (\" not prime\")\n",
    "        else:\n",
    "                return (\" prime\")\n",
    "b=B()\n",
    "b.prime(5)\n",
    "        "
   ]
  },
  {
   "cell_type": "code",
   "execution_count": 34,
   "metadata": {},
   "outputs": [
    {
     "data": {
      "text/plain": [
       "120"
      ]
     },
     "execution_count": 34,
     "metadata": {},
     "output_type": "execute_result"
    }
   ],
   "source": [
    "class task:\n",
    "    a=5\n",
    "    def factorial(a):\n",
    "        fact=1\n",
    "        for i in range(1,a+1):\n",
    "            fact=fact*i\n",
    "        return (fact)\n",
    "\n",
    "\n",
    "task.a\n",
    "task.factorial(5)\n",
    "        "
   ]
  },
  {
   "cell_type": "code",
   "execution_count": 42,
   "metadata": {},
   "outputs": [
    {
     "name": "stdout",
     "output_type": "stream",
     "text": [
      "only self\n",
      "python pyhton\n"
     ]
    }
   ],
   "source": [
    "class Nonparacons:\n",
    "    def __init__(self):\n",
    "        print(\"only self\")\n",
    "    def show(self,name):\n",
    "        print(\"python\",name)\n",
    "p=Nonparacons()\n",
    "p.show(\"pyhton\")\n",
    "    "
   ]
  },
  {
   "cell_type": "code",
   "execution_count": 46,
   "metadata": {},
   "outputs": [
    {
     "data": {
      "text/plain": [
       "26"
      ]
     },
     "execution_count": 46,
     "metadata": {},
     "output_type": "execute_result"
    }
   ],
   "source": [
    "class Paracons:\n",
    "    def __init__(self,a,b):\n",
    "        self.a=a\n",
    "        self.b=b\n",
    "    def add(self):\n",
    "        return self.a+self.b\n",
    "p=Paracons(12,14)\n",
    "p.add()"
   ]
  },
  {
   "cell_type": "code",
   "execution_count": 47,
   "metadata": {},
   "outputs": [
    {
     "name": "stdout",
     "output_type": "stream",
     "text": [
      "second constructor\n"
     ]
    }
   ],
   "source": [
    "class Multicons:\n",
    "    def __init__(self):\n",
    "        print(\"first constructor\")\n",
    "    def __init__(self):\n",
    "        print(\"second constructor\")\n",
    "m=Multicons()\n"
   ]
  },
  {
   "cell_type": "markdown",
   "metadata": {},
   "source": [
    "###  single inheritance"
   ]
  },
  {
   "cell_type": "code",
   "execution_count": 49,
   "metadata": {},
   "outputs": [
    {
     "name": "stdout",
     "output_type": "stream",
     "text": [
      "from parent class\n",
      "from child class\n"
     ]
    }
   ],
   "source": [
    "class A():\n",
    "    a=1\n",
    "    def ca():\n",
    "        return 'from parent class'\n",
    "class B(A):\n",
    "    b=2\n",
    "    def cb():\n",
    "        return \"from child class\"\n",
    "obj=B\n",
    "print(obj.ca())\n",
    "print(obj.cb())"
   ]
  },
  {
   "cell_type": "markdown",
   "metadata": {},
   "source": [
    "### heirarichal inheritance"
   ]
  },
  {
   "cell_type": "code",
   "execution_count": 52,
   "metadata": {},
   "outputs": [
    {
     "name": "stdout",
     "output_type": "stream",
     "text": [
      " from class C\n",
      " from class B\n"
     ]
    }
   ],
   "source": [
    "class A():\n",
    "    def ca():\n",
    "        return \" from class A\"\n",
    "class B(A):\n",
    "    def cb():\n",
    "        return \" from class B\"\n",
    "class C(A):\n",
    "    def cc():\n",
    "        return \" from class C\"\n",
    "d=C\n",
    "d1=B\n",
    "print(d.cc())\n",
    "print(d1.cb())\n",
    "    "
   ]
  },
  {
   "cell_type": "markdown",
   "metadata": {},
   "source": [
    "### multiple inheritance"
   ]
  },
  {
   "cell_type": "code",
   "execution_count": 54,
   "metadata": {},
   "outputs": [
    {
     "name": "stdout",
     "output_type": "stream",
     "text": [
      "from class c\n",
      "from child class\n",
      "from parent class\n"
     ]
    }
   ],
   "source": [
    "class A:\n",
    "    a=1\n",
    "    def ca():\n",
    "        return \"from parent class\"\n",
    "class B(A):\n",
    "    b=2\n",
    "    def cb():\n",
    "        return \"from child class\"\n",
    "class C(B):\n",
    "    c=4\n",
    "    def cc():\n",
    "        return \"from class c\"\n",
    "obj1=C\n",
    "print(obj1.cc())\n",
    "print(obj1.cb())\n",
    "print(obj1.ca())\n"
   ]
  },
  {
   "cell_type": "code",
   "execution_count": 2,
   "metadata": {},
   "outputs": [
    {
     "data": {
      "text/plain": [
       "11"
      ]
     },
     "execution_count": 2,
     "metadata": {},
     "output_type": "execute_result"
    }
   ],
   "source": [
    "from package.module import MyMath\n",
    "ob=MyMath(5,6)\n",
    "ob.add()"
   ]
  },
  {
   "cell_type": "code",
   "execution_count": 3,
   "metadata": {},
   "outputs": [
    {
     "name": "stdout",
     "output_type": "stream",
     "text": [
      "['MyMath', '__builtins__', '__cached__', '__doc__', '__file__', '__loader__', '__name__', '__package__', '__spec__', 'duplicate', 'unique']\n"
     ]
    }
   ],
   "source": [
    "from package import module\n",
    "print(dir(module))"
   ]
  },
  {
   "cell_type": "code",
   "execution_count": null,
   "metadata": {},
   "outputs": [],
   "source": []
  }
 ],
 "metadata": {
  "kernelspec": {
   "display_name": "Python 3",
   "language": "python",
   "name": "python3"
  },
  "language_info": {
   "codemirror_mode": {
    "name": "ipython",
    "version": 3
   },
   "file_extension": ".py",
   "mimetype": "text/x-python",
   "name": "python",
   "nbconvert_exporter": "python",
   "pygments_lexer": "ipython3",
   "version": "3.8.5"
  }
 },
 "nbformat": 4,
 "nbformat_minor": 4
}
