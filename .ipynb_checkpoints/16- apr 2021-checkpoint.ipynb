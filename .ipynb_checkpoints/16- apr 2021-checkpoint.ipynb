{
 "cells": [
  {
   "cell_type": "markdown",
   "metadata": {},
   "source": [
    "### Loops\n",
    "\n"
   ]
  },
  {
   "cell_type": "markdown",
   "metadata": {},
   "source": [
    "###  syntax of for\n",
    "for i in range(arg):  --->int\n",
    "\n",
    "for i in variable_name: --->string"
   ]
  },
  {
   "cell_type": "code",
   "execution_count": 5,
   "metadata": {},
   "outputs": [
    {
     "name": "stdout",
     "output_type": "stream",
     "text": [
      "0 1 2 3 4 5 6 7 8 9 "
     ]
    }
   ],
   "source": [
    "for i in range(10):\n",
    "    print(i,end=' ')"
   ]
  },
  {
   "cell_type": "code",
   "execution_count": 7,
   "metadata": {},
   "outputs": [
    {
     "name": "stdout",
     "output_type": "stream",
     "text": [
      "1 2 3 4 5 6 7 8 9 10 "
     ]
    }
   ],
   "source": [
    "for i in range(1,11):\n",
    "    print(i,end=' ')"
   ]
  },
  {
   "cell_type": "code",
   "execution_count": 17,
   "metadata": {},
   "outputs": [
    {
     "name": "stdout",
     "output_type": "stream",
     "text": [
      "0 2 4 6 8 10 "
     ]
    }
   ],
   "source": [
    "for i in range(0,11,2):\n",
    "    print(i,end=' ')"
   ]
  },
  {
   "cell_type": "code",
   "execution_count": 16,
   "metadata": {},
   "outputs": [
    {
     "name": "stdout",
     "output_type": "stream",
     "text": [
      "1\n",
      "10\n",
      "2 4 6 8 10 "
     ]
    }
   ],
   "source": [
    "n1=int(input())\n",
    "n2=int(input())\n",
    "for i in range(n1,n2+1):\n",
    "    if(i%2==0):\n",
    "       print(i,end=' ')"
   ]
  },
  {
   "cell_type": "code",
   "execution_count": 24,
   "metadata": {},
   "outputs": [
    {
     "name": "stdout",
     "output_type": "stream",
     "text": [
      "6\n",
      "1 2 3 4 5 \n",
      "sum is: 15\n",
      "average is: 2.5\n"
     ]
    }
   ],
   "source": [
    "n=int(input())\n",
    "sum1=0\n",
    "    print(i,end=' ')\n",
    "    sum1=sum1+i\n",
    "print(\"\\nsum is:\",sum\n",
    "for i in range(1,n):1)\n",
    "average=sum1/n\n",
    "print(\"average is:\",average)\n",
    "    "
   ]
  },
  {
   "cell_type": "code",
   "execution_count": 3,
   "metadata": {},
   "outputs": [
    {
     "name": "stdout",
     "output_type": "stream",
     "text": [
      "5\n",
      "8\n",
      "5 6 7 8 \n",
      " 26\n",
      "6.5\n"
     ]
    }
   ],
   "source": [
    "n1=int(input())\n",
    "n2=int(input())\n",
    "sum1=0\n",
    "count=0\n",
    "for i in range(n1,n2+1):\n",
    "    count+=1\n",
    "    print(i,end=\" \")\n",
    "    sum1+=i\n",
    "print(\"\\n\",sum1)\n",
    "average=sum1/count\n",
    "print(average)\n",
    "\n",
    "    \n"
   ]
  },
  {
   "cell_type": "code",
   "execution_count": 4,
   "metadata": {},
   "outputs": [
    {
     "name": "stdout",
     "output_type": "stream",
     "text": [
      "10\n",
      "20\n",
      "10 12 14 16 18 20 \n",
      " 90\n",
      "15.0\n"
     ]
    }
   ],
   "source": [
    "n1=int(input())\n",
    "n2=int(input())\n",
    "sum1=0\n",
    "count=0\n",
    "for i in range(n1,n2+1):\n",
    "     if i%2==0:         \n",
    "        count+=1\n",
    "        print(i,end=\" \")\n",
    "        sum1+=i\n",
    "print(\"\\n\",sum1)\n",
    "average=sum1/count\n",
    "print(average)\n",
    "\n"
   ]
  },
  {
   "cell_type": "code",
   "execution_count": 9,
   "metadata": {},
   "outputs": [
    {
     "name": "stdout",
     "output_type": "stream",
     "text": [
      "3\n",
      "8\n",
      "3 4 5 6 7 \n",
      " 25\n",
      "5.0\n"
     ]
    }
   ],
   "source": [
    "n1=(input())\n",
    "n2=(input())\n",
    "sum1=0\n",
    "count=0\n",
    "for i in range(int(n1),int(n2)):\n",
    "    count+=1\n",
    "    print(i,end=\" \")\n",
    "    sum1+=int(i)\n",
    "print(\"\\n\",sum1)\n",
    "average=sum1/count\n",
    "print(average)\n"
   ]
  },
  {
   "cell_type": "code",
   "execution_count": 13,
   "metadata": {},
   "outputs": [
    {
     "name": "stdout",
     "output_type": "stream",
     "text": [
      "6\n",
      "factorial of  6 is : 720\n"
     ]
    }
   ],
   "source": [
    "\n",
    "n=int(input())\n",
    "fact=1\n",
    "for i in range(1,n+1):\n",
    "    fact=fact*i\n",
    "print(\"factorial of \",n,\"is :\",fact)"
   ]
  },
  {
   "cell_type": "code",
   "execution_count": 25,
   "metadata": {},
   "outputs": [
    {
     "name": "stdout",
     "output_type": "stream",
     "text": [
      "5\n",
      " prime number\n"
     ]
    }
   ],
   "source": [
    "n=int(input())\n",
    "if n>1:\n",
    "    for i in range(2,n):\n",
    "        if n%i==0:\n",
    "            print(n,\"is not a prime number\")\n",
    "            break\n",
    "    else:\n",
    "        print(\" prime number\")\n",
    "else:\n",
    "    print(\" not a prime number\")"
   ]
  },
  {
   "cell_type": "code",
   "execution_count": 6,
   "metadata": {},
   "outputs": [
    {
     "name": "stdout",
     "output_type": "stream",
     "text": [
      "8\n",
      "not perfect number\n"
     ]
    }
   ],
   "source": [
    "n=int(input())\n",
    "sum1=0\n",
    "for i in range(1,n):\n",
    "    if n%i==0:\n",
    "        sum1=sum1+i\n",
    "if sum==n:\n",
    "    print(\"perfect number\")\n",
    "else:\n",
    "    print(\"not perfect number\")\n",
    "        \n",
    "    \n",
    "\n"
   ]
  },
  {
   "cell_type": "code",
   "execution_count": 15,
   "metadata": {},
   "outputs": [
    {
     "name": "stdout",
     "output_type": "stream",
     "text": [
      "5\n",
      "factorial of a number is  120\n"
     ]
    }
   ],
   "source": [
    "n=int(input())\n",
    "sum1=0\n",
    "fact=1\n",
    "\n",
    "if n%2==0:\n",
    "    for i in range(1,n):\n",
    "        if n%i==0:\n",
    "             sum1+=i\n",
    "    if sum1==n:\n",
    "            print(\"perfect number\")\n",
    "    else:\n",
    "        print(\" not a perfectnumber\")\n",
    "else:\n",
    "    for i in range (1,n+1):\n",
    "        fact=fact*i\n",
    "    print(\"factorial of a number is \",fact)\n",
    "\n",
    "     "
   ]
  },
  {
   "cell_type": "code",
   "execution_count": 41,
   "metadata": {
    "scrolled": true
   },
   "outputs": [
    {
     "name": "stdout",
     "output_type": "stream",
     "text": [
      "3\n",
      "1 * 1 = 1\n",
      "1 * 2 = 2\n",
      "1 * 3 = 3\n",
      "1 * 4 = 4\n",
      "1 * 5 = 5\n",
      "1 * 6 = 6\n",
      "1 * 7 = 7\n",
      "1 * 8 = 8\n",
      "1 * 9 = 9\n",
      "1 * 10 = 10\n",
      "\n",
      "2 * 1 = 2\n",
      "2 * 2 = 4\n",
      "2 * 3 = 6\n",
      "2 * 4 = 8\n",
      "2 * 5 = 10\n",
      "2 * 6 = 12\n",
      "2 * 7 = 14\n",
      "2 * 8 = 16\n",
      "2 * 9 = 18\n",
      "2 * 10 = 20\n",
      "\n",
      "3 * 1 = 3\n",
      "3 * 2 = 6\n",
      "3 * 3 = 9\n",
      "3 * 4 = 12\n",
      "3 * 5 = 15\n",
      "3 * 6 = 18\n",
      "3 * 7 = 21\n",
      "3 * 8 = 24\n",
      "3 * 9 = 27\n",
      "3 * 10 = 30\n",
      "\n"
     ]
    }
   ],
   "source": [
    "n=int(input())\n",
    "for i in range(1,n+1):\n",
    "    #print()\n",
    "    for j in range (1,11):\n",
    "        print(i,\"*\",j,\"=\",i*j)\n",
    "    #print(sep=\" \")\n",
    "\n",
    "        \n",
    "        \n"
   ]
  },
  {
   "cell_type": "code",
   "execution_count": 46,
   "metadata": {},
   "outputs": [
    {
     "name": "stdout",
     "output_type": "stream",
     "text": [
      "8\n",
      "1 2 3 4 5 "
     ]
    }
   ],
   "source": [
    "n=int(input())\n",
    "for i in range(1,n+1):\n",
    "    print(i,end=' ')\n",
    "    if i==5:\n",
    "        break"
   ]
  },
  {
   "cell_type": "code",
   "execution_count": 45,
   "metadata": {},
   "outputs": [
    {
     "name": "stdout",
     "output_type": "stream",
     "text": [
      "8\n",
      "1 2 3 4 6 7 8 "
     ]
    }
   ],
   "source": [
    "n=int(input())\n",
    "for i in range(1,n+1):\n",
    "    if i==5:\n",
    "        continue\n",
    "    print(i,end=' ')"
   ]
  },
  {
   "cell_type": "code",
   "execution_count": null,
   "metadata": {},
   "outputs": [],
   "source": []
  },
  {
   "cell_type": "code",
   "execution_count": 49,
   "metadata": {},
   "outputs": [
    {
     "name": "stdout",
     "output_type": "stream",
     "text": [
      "mouni\n",
      "m o u n i "
     ]
    }
   ],
   "source": [
    " n=input()\n",
    "for i in n:\n",
    "    print(i,end=' ')"
   ]
  },
  {
   "cell_type": "markdown",
   "metadata": {},
   "source": [
    "#### ord() -->calculate the ascii value from the character,parameter is string\n",
    "#### chr() -->calculate character from ascii value "
   ]
  },
  {
   "cell_type": "code",
   "execution_count": 51,
   "metadata": {},
   "outputs": [
    {
     "name": "stdout",
     "output_type": "stream",
     "text": [
      "97\n",
      "65\n",
      "56\n"
     ]
    }
   ],
   "source": [
    "print(ord('a'))\n",
    "print(ord('A'))\n",
    "print(ord('8'))"
   ]
  },
  {
   "cell_type": "code",
   "execution_count": 52,
   "metadata": {},
   "outputs": [
    {
     "name": "stdout",
     "output_type": "stream",
     "text": [
      "c\n",
      "A\n"
     ]
    }
   ],
   "source": [
    "print(chr(99))\n",
    "print(chr(65))"
   ]
  },
  {
   "cell_type": "code",
   "execution_count": 54,
   "metadata": {},
   "outputs": [
    {
     "name": "stdout",
     "output_type": "stream",
     "text": [
      "mounika\n",
      "109\n",
      "111\n",
      "117\n",
      "110\n",
      "105\n",
      "107\n",
      "97\n"
     ]
    }
   ],
   "source": [
    "n=input()\n",
    "for i in n:\n",
    "    print(ord(i))\n"
   ]
  },
  {
   "cell_type": "code",
   "execution_count": 56,
   "metadata": {},
   "outputs": [
    {
     "name": "stdout",
     "output_type": "stream",
     "text": [
      "mounika\n",
      "n\n"
     ]
    }
   ],
   "source": [
    "name=input()\n",
    "for i in name:\n",
    "    if(ord(i)%2==0):\n",
    "        print(i)"
   ]
  },
  {
   "cell_type": "code",
   "execution_count": 66,
   "metadata": {},
   "outputs": [
    {
     "name": "stdout",
     "output_type": "stream",
     "text": [
      "python\n",
      "p ¢ t h  n "
     ]
    }
   ],
   "source": [
    "name=input()\n",
    "for i in name:\n",
    "    if(ord(i)%2==0):\n",
    "        print(i,end=' ')\n",
    "    else:\n",
    "        res=(ord(i)*ord(i))/90\n",
    "        res1=int(res)\n",
    "        print(chr(res1),end=' ')\n",
    "        \n",
    "        \n",
    "    "
   ]
  },
  {
   "cell_type": "code",
   "execution_count": 79,
   "metadata": {},
   "outputs": [
    {
     "name": "stdout",
     "output_type": "stream",
     "text": [
      "113.34444444444445\n"
     ]
    }
   ],
   "source": [
    "print(101*101/90)"
   ]
  },
  {
   "cell_type": "code",
   "execution_count": 78,
   "metadata": {},
   "outputs": [
    {
     "name": "stdout",
     "output_type": "stream",
     "text": [
      "101\n"
     ]
    }
   ],
   "source": [
    "print(ord('e'))"
   ]
  },
  {
   "cell_type": "code",
   "execution_count": 65,
   "metadata": {},
   "outputs": [
    {
     "name": "stdout",
     "output_type": "stream",
     "text": [
      "python\n",
      "p\n",
      "t\n",
      "h\n",
      "n\n"
     ]
    }
   ],
   "source": [
    "name=input()\n",
    "for i in name:\n",
    "    if(ord(i)%2==0):\n",
    "        print(i)"
   ]
  },
  {
   "cell_type": "code",
   "execution_count": 80,
   "metadata": {},
   "outputs": [
    {
     "name": "stdout",
     "output_type": "stream",
     "text": [
      "q\n"
     ]
    }
   ],
   "source": [
    "print(chr(113))"
   ]
  },
  {
   "cell_type": "markdown",
   "metadata": {},
   "source": [
    "###  while loop"
   ]
  },
  {
   "cell_type": "code",
   "execution_count": 2,
   "metadata": {},
   "outputs": [
    {
     "name": "stdout",
     "output_type": "stream",
     "text": [
      "1 2 3 4 5 6 7 8 9 10 55\n"
     ]
    }
   ],
   "source": [
    "i=1\n",
    "sum1=0\n",
    "while i<=10:\n",
    "    print(i,end=' ')\n",
    "    sum1=sum1+i\n",
    "    i=i+1\n",
    "print(sum1)\n",
    "    \n",
    "    \n"
   ]
  },
  {
   "cell_type": "code",
   "execution_count": null,
   "metadata": {},
   "outputs": [],
   "source": [
    "### functions\n",
    "* block of statements /set of statements to perform particular taskto perform\n",
    "* block of statements will execute and return the result when function called\n",
    "### function contains\n",
    "1.function declarations\n",
    "2.body of function\n",
    "3.function calling\n",
    "\n",
    "## types of functions\n",
    "1.built in\n",
    "2.max\n",
    "3.min\n",
    "4.sum\n",
    "5.len\n",
    "6.chr\n",
    "7.abs\n",
    "\n",
    "### 2.user-define\n",
    "* it is a function which is defined by user o perform particular task\n",
    " 1.required arguments\n",
    " 2.default arg\n",
    " 3.keyword arg\n",
    " 4.variable length\n"
   ]
  },
  {
   "cell_type": "code",
   "execution_count": null,
   "metadata": {},
   "outputs": [],
   "source": [
    "# syntax for function\n",
    "def function name(arg):\n",
    "        body of function\n",
    "function_name"
   ]
  },
  {
   "cell_type": "code",
   "execution_count": 1,
   "metadata": {},
   "outputs": [
    {
     "name": "stdout",
     "output_type": "stream",
     "text": [
      "sheema\n",
      "welcome to vignan sheema\n"
     ]
    }
   ],
   "source": [
    "n=input()\n",
    "def sample():\n",
    "    print(\"welcome to vignan \" + n)\n",
    "sample()"
   ]
  },
  {
   "cell_type": "code",
   "execution_count": 6,
   "metadata": {},
   "outputs": [
    {
     "name": "stdout",
     "output_type": "stream",
     "text": [
      "7\n",
      "8\n",
      "multiplication of 7 and 8 is 56\n"
     ]
    }
   ],
   "source": [
    "#local variables\n",
    "def local():\n",
    "    n=int(input())\n",
    "    n1=int(input())\n",
    "    print(\"multiplication of\",n,\"and\",n1,\"is\",n*n1)\n",
    "local()\n",
    "    "
   ]
  },
  {
   "cell_type": "code",
   "execution_count": 7,
   "metadata": {},
   "outputs": [
    {
     "name": "stdout",
     "output_type": "stream",
     "text": [
      "8\n",
      "9\n",
      "multiplication of 8 and 9 is 72\n",
      "8 9\n"
     ]
    }
   ],
   "source": [
    "n=int(input())\n",
    "n1=int(input())\n",
    "def local():\n",
    "    print(\"multiplication of\",n,\"and\",n1,\"is\",n*n1)\n",
    "local()\n",
    "print(n,n1)\n",
    "    "
   ]
  },
  {
   "cell_type": "code",
   "execution_count": 22,
   "metadata": {},
   "outputs": [
    {
     "name": "stdout",
     "output_type": "stream",
     "text": [
      "6\n",
      "perfect number\n"
     ]
    }
   ],
   "source": [
    "\n",
    "\n",
    "n=int(input())\n",
    "\n",
    "def perfect_number(n):\n",
    "    sum1=0\n",
    "    if n%2==0:\n",
    "        for i in range(1,n):\n",
    "              if n%i==0:\n",
    "                sum1+=i\n",
    "        if sum1==n:\n",
    "            print(\"perfect number\")\n",
    "        else:\n",
    "            print(\" not a perfectnumber\")\n",
    "def odd(n):\n",
    "    for i in range (1,n+1):\n",
    "        fact=fact*i\n",
    "    print(\"factorial of a number is \",fact)\n",
    "\n",
    "if(n%2==0):\n",
    "    perfect_number(n)\n",
    "else:\n",
    "    odd(n)\n",
    "    \n",
    "    \n",
    "    "
   ]
  },
  {
   "cell_type": "code",
   "execution_count": 3,
   "metadata": {},
   "outputs": [
    {
     "name": "stdout",
     "output_type": "stream",
     "text": [
      "name is: mouni\n",
      "organization name is: vignan\n",
      "phone no: 14286\n"
     ]
    }
   ],
   "source": [
    "\n",
    "def required(name,org,phn):\n",
    "    print(\"name is:\",name)\n",
    "    print(\"organization name is:\",org)\n",
    "    print(\"phone no:\",phn)\n",
    "required(\"mouni\",'vignan','14286')"
   ]
  },
  {
   "cell_type": "code",
   "execution_count": 4,
   "metadata": {},
   "outputs": [
    {
     "name": "stdout",
     "output_type": "stream",
     "text": [
      "sheema\n",
      "oxford\n",
      "name is: mouni\n",
      "organization name is: vignan\n"
     ]
    }
   ],
   "source": [
    "name=input()\n",
    "org=input()\n",
    "def required(name,org):\n",
    "    print(\"name is:\",name)\n",
    "    print(\"organization name is:\",org)\n",
    "required(\"mouni\",'vignan')"
   ]
  },
  {
   "cell_type": "code",
   "execution_count": 5,
   "metadata": {},
   "outputs": [
    {
     "name": "stdout",
     "output_type": "stream",
     "text": [
      "addition: 13\n",
      "mul is: 20\n",
      "addition: 11\n",
      "mul is: 24\n"
     ]
    }
   ],
   "source": [
    "#default\n",
    "def default(a,b,c=10):\n",
    "    print(\"addition:\",a+b+c)\n",
    "    print(\"mul is:\",a*b*c)\n",
    "default(1,2)\n",
    "default(1,4,6)\n"
   ]
  },
  {
   "cell_type": "code",
   "execution_count": 6,
   "metadata": {},
   "outputs": [
    {
     "name": "stdout",
     "output_type": "stream",
     "text": [
      "name is: mounika@hfkyf\n",
      "user name: hfddshf\n"
     ]
    }
   ],
   "source": [
    "#keyword-values assigned acoording to key \n",
    "def keyword(fname,lname,uname):\n",
    "    print(\"name is:\",fname+lname)\n",
    "    print(\"user name:\",uname)\n",
    "keyword('mounika','@hfkyf','hfddshf')"
   ]
  },
  {
   "cell_type": "code",
   "execution_count": 7,
   "metadata": {},
   "outputs": [
    {
     "name": "stdout",
     "output_type": "stream",
     "text": [
      "name is: mounikahfddshf\n",
      "user name: @hfkyf\n"
     ]
    }
   ],
   "source": [
    "def keyword(fname,lname,uname):\n",
    "    print(\"name is:\",fname+lname)\n",
    "    print(\"user name:\",uname)\n",
    "keyword(fname='mounika',uname='@hfkyf',lname='hfddshf')"
   ]
  },
  {
   "cell_type": "code",
   "execution_count": null,
   "metadata": {},
   "outputs": [],
   "source": []
  }
 ],
 "metadata": {
  "kernelspec": {
   "display_name": "Python 3",
   "language": "python",
   "name": "python3"
  },
  "language_info": {
   "codemirror_mode": {
    "name": "ipython",
    "version": 3
   },
   "file_extension": ".py",
   "mimetype": "text/x-python",
   "name": "python",
   "nbconvert_exporter": "python",
   "pygments_lexer": "ipython3",
   "version": "3.8.5"
  }
 },
 "nbformat": 4,
 "nbformat_minor": 4
}
